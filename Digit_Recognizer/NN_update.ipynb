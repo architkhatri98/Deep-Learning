{
 "cells": [
  {
   "cell_type": "code",
   "execution_count": 1,
   "metadata": {
    "colab": {
     "base_uri": "https://localhost:8080/",
     "height": 35
    },
    "colab_type": "code",
    "id": "avHlR9q8TSwZ",
    "outputId": "16fac38b-7635-47c0-c02f-c5a4a32b5012"
   },
   "outputs": [
    {
     "name": "stderr",
     "output_type": "stream",
     "text": [
      "/home/architkhatri/anaconda3/lib/python3.6/importlib/_bootstrap.py:219: RuntimeWarning: numpy.dtype size changed, may indicate binary incompatibility. Expected 96, got 88\n",
      "  return f(*args, **kwds)\n",
      "/home/architkhatri/anaconda3/lib/python3.6/importlib/_bootstrap.py:219: RuntimeWarning: numpy.dtype size changed, may indicate binary incompatibility. Expected 96, got 88\n",
      "  return f(*args, **kwds)\n",
      "Using TensorFlow backend.\n"
     ]
    }
   ],
   "source": [
    "import numpy as np\n",
    "import pandas as pd\n",
    "import matplotlib.pyplot as plt\n",
    "import keras\n",
    "import tensorflow as tf\n",
    "import matplotlib.image as img\n",
    "import cv2\n",
    "from keras.datasets import mnist"
   ]
  },
  {
   "cell_type": "code",
   "execution_count": 2,
   "metadata": {
    "colab": {},
    "colab_type": "code",
    "id": "MAL6b3bSgnoj"
   },
   "outputs": [],
   "source": [
    "from keras.models import Sequential\n",
    "from keras.layers.core import Dense, Flatten\n",
    "from keras.layers import Convolution2D, MaxPooling2D\n",
    "from keras.layers.normalization import BatchNormalization"
   ]
  },
  {
   "cell_type": "code",
   "execution_count": 3,
   "metadata": {
    "colab": {},
    "colab_type": "code",
    "id": "KqSyQ13qgsqZ"
   },
   "outputs": [],
   "source": [
    "classifier = Sequential()\n",
    "classifier.add(Convolution2D(32, (3,3), activation = 'relu', input_shape = (28,28,1)))\n",
    "classifier.add(BatchNormalization(axis = 1))\n",
    "classifier.add(Convolution2D(64, (3,3), activation = 'relu'))\n",
    "classifier.add(BatchNormalization(axis=1))\n",
    "classifier.add(Convolution2D(64, (3,3), activation = 'relu'))\n",
    "classifier.add(MaxPooling2D(pool_size = (2,2)))\n",
    "classifier.add(BatchNormalization(axis = 1))\n",
    "classifier.add(Convolution2D(64, (3,3), activation = 'relu'))\n",
    "classifier.add(MaxPooling2D(pool_size = (2,2)))\n",
    "classifier.add(BatchNormalization(axis = 1))\n",
    "classifier.add(Convolution2D(64, (3,3), activation = 'relu'))\n",
    "classifier.add(MaxPooling2D(pool_size = (2,2)))\n",
    "classifier.add(BatchNormalization(axis = 1))\n",
    "classifier.add(Flatten())\n",
    "classifier.add(Dense(768, activation = 'relu'))\n",
    "classifier.add(BatchNormalization())\n",
    "classifier.add(Dense(10, activation = 'sigmoid'))\n",
    "classifier.compile(optimizer = 'adam', loss = 'categorical_crossentropy', metrics = ['accuracy'])"
   ]
  },
  {
   "cell_type": "code",
   "execution_count": 0,
   "metadata": {
    "colab": {},
    "colab_type": "code",
    "id": "ievRydvfIcox"
   },
   "outputs": [],
   "source": [
    "#classifier.save_weights('mnist_digits_nn_weights.h5')"
   ]
  },
  {
   "cell_type": "code",
   "execution_count": 4,
   "metadata": {},
   "outputs": [],
   "source": [
    "classifier.load_weights('mnist_digits_nn_weights.h5')"
   ]
  },
  {
   "cell_type": "code",
   "execution_count": 5,
   "metadata": {},
   "outputs": [],
   "source": [
    "#importing the datasets\n",
    "#dataset = pd.read_csv('train.csv')\n",
    "testset = pd.read_csv('test.csv')"
   ]
  },
  {
   "cell_type": "code",
   "execution_count": 133,
   "metadata": {},
   "outputs": [],
   "source": [
    "X_test = testset.iloc[:,:].values\n",
    "X_test = X_test.reshape(X_test.shape[0], 28,28,1)"
   ]
  },
  {
   "cell_type": "code",
   "execution_count": null,
   "metadata": {},
   "outputs": [],
   "source": [
    "\"\"\"\n",
    "#Predicting values using CNN\n",
    "predictions = classifier.predict_classes(X_test, verbose=0)\n",
    "\n",
    "#Creating submissions dataframe and converting into csv file\n",
    "submissions=pd.DataFrame({\"ImageId\": list(range(1,len(predictions)+1)),\n",
    "                         \"Label\": predictions})\n",
    "submissions.to_csv(\"submissions.csv\", index=False, header=True)\n",
    "\"\"\""
   ]
  },
  {
   "cell_type": "code",
   "execution_count": 5,
   "metadata": {},
   "outputs": [],
   "source": [
    "def resize_digit_image(digit):\n",
    "    \"\"\"\n",
    "        Function to resize a random image containing a handwritten digit to appropriate size and dimensions for use in CNN.\n",
    "    \"\"\"\n",
    "    digit_resized = cv2.resize(digit, (28,28))\n",
    "    digit_resized = cv2.cvtColor(digit_resized, cv2.COLOR_BGR2GRAY)\n",
    "    digit_resized = digit_resized.reshape(1,28,28,1)\n",
    "    return digit_resized"
   ]
  },
  {
   "cell_type": "code",
   "execution_count": 6,
   "metadata": {},
   "outputs": [],
   "source": [
    "def resize_image(digit):\n",
    "    \"\"\"\n",
    "        Function to resize a random image containing a handwritten digit to 28*28 to show converted image\n",
    "    \"\"\"\n",
    "    digit = cv2.resize(digit, (28,28))\n",
    "    digit = cv2.cvtColor(digit, cv2.COLOR_BGR2GRAY)\n",
    "    return digit"
   ]
  },
  {
   "cell_type": "code",
   "execution_count": 7,
   "metadata": {},
   "outputs": [],
   "source": [
    "def predict_digit(digit):\n",
    "    \"\"\"\n",
    "        Function to return the predicted output of a handwritten digit image after resizing and reshaping.\n",
    "    \"\"\"\n",
    "    answers = classifier.predict_classes(digit, verbose = 0)\n",
    "    return answers"
   ]
  },
  {
   "cell_type": "code",
   "execution_count": 8,
   "metadata": {},
   "outputs": [],
   "source": [
    "def predict(digit):\n",
    "    \"\"\"\n",
    "        This function will take an input containing a handwritten digit in an image of any size and return the prediction.\n",
    "    \"\"\"\n",
    "    digit_resized = resize_digit_image(digit)\n",
    "    prediction = predict_digit(digit_resized)\n",
    "    digit = resize_image(digit)\n",
    "    plt.imshow(digit, cmap = 'gray')\n",
    "    plt.title(prediction)"
   ]
  },
  {
   "cell_type": "code",
   "execution_count": 11,
   "metadata": {},
   "outputs": [],
   "source": [
    "digit = plt.imread('digitTest.jpg')\n",
    "digitImg = plt.imread('digitTest.jpg')\n",
    "digitImg = resize_image(digitImg)"
   ]
  },
  {
   "cell_type": "code",
   "execution_count": null,
   "metadata": {},
   "outputs": [],
   "source": [
    "#TEST\n",
    "predict(digit)"
   ]
  }
 ],
 "metadata": {
  "accelerator": "GPU",
  "colab": {
   "name": "Untitled",
   "provenance": [],
   "version": "0.3.2"
  },
  "kernelspec": {
   "display_name": "Python 3",
   "language": "python",
   "name": "python3"
  },
  "language_info": {
   "codemirror_mode": {
    "name": "ipython",
    "version": 3
   },
   "file_extension": ".py",
   "mimetype": "text/x-python",
   "name": "python",
   "nbconvert_exporter": "python",
   "pygments_lexer": "ipython3",
   "version": "3.6.6"
  }
 },
 "nbformat": 4,
 "nbformat_minor": 1
}
